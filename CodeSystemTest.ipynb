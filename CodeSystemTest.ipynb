{
 "cells": [
  {
   "cell_type": "markdown",
   "id": "266cc6d5",
   "metadata": {},
   "source": [
    "# Demo Notebook - CodeSystem\n",
    "Some code to set up the notebook:"
   ]
  },
  {
   "cell_type": "code",
   "execution_count": 8,
   "id": "3c144a36-117c-42a0-9109-df73433e8267",
   "metadata": {
    "scrolled": false
   },
   "outputs": [],
   "source": [
    "#BASE_URL =\"http://localhost:8080/fhir/\"  # timsts, Jupyter uses 8888!!\n",
    "#BASE_URL =\"http://localhost:8081/fhir/\"  # test-steph\n",
    "#BASE_URL =\"http://localhost:8088/r4/\"  # Jupyter uses 8888!PAPA\n",
    "#BASE_URL =\"http://localhost:8088/fhir/\"  # hapi-pheno\n",
    "# BASE_URL =\"http://localhost:8000/fhir/\"  # ROOT.war\n",
    "BASE_URL =\"http://localhost:8001/fhir/\" \n",
    "\n",
    "#BASE_URL =\"http://localhost:8888/fhir/\"  # ROOT.war\\\\\n",
    "#BASE_URL = \"http://20.119.216.32:8000/r4/\"  # TIMS server\n",
    "#BASE_URL = \"http://20.119.216.32:8001/r4/\"  # test-steph\n",
    "\n",
    "from imports import TimsClient\n",
    "client = TimsClient(BASE_URL,  True)"
   ]
  },
  {
   "cell_type": "markdown",
   "id": "a9ebc889",
   "metadata": {},
   "source": [
    "## CodeSystem Search\n",
    "This seems to require hibernate search?"
   ]
  },
  {
   "cell_type": "code",
   "execution_count": 3,
   "id": "8add4061",
   "metadata": {},
   "outputs": [
    {
     "name": "stdout",
     "output_type": "stream",
     "text": [
      "GETTING\n",
      "http://localhost:8001/fhir/CodeSystem?_summary=true\n",
      "SENDING\n",
      "HTTP STATUS OK 200\n",
      "title: (none)\n",
      "name:SNOMED CT , id:1, url:http://snomed.info/sct\n",
      "\n",
      "title: (none)\n",
      "name:ICD-10-CM , id:2, url:http://hl7.org/fhir/sid/icd-10-cm\n",
      "\n",
      "title: Mondo Disease Ontology\n",
      "name:MondoDiseaseOntology , id:mondo, url:http://purl.obolibrary.org/obo/mondo.fhir\n",
      "\n",
      "title: Sequence Ontology\n",
      "name:SequenceOntology , id:so, url:http://purl.obolibrary.org/obo/so.fhir\n",
      "\n",
      "title: Human Phenotype Ontology\n",
      "name:HumanPhenotypeOntology , id:hpo, url:http://purl.obolibrary.org/obo/hp.fhir\n",
      "\n",
      "title: (none)\n"
     ]
    },
    {
     "ename": "KeyError",
     "evalue": "'name'",
     "output_type": "error",
     "traceback": [
      "\u001b[0;31m---------------------------------------------------------------------------\u001b[0m",
      "\u001b[0;31mKeyError\u001b[0m                                  Traceback (most recent call last)",
      "Cell \u001b[0;32mIn [3], line 1\u001b[0m\n\u001b[0;32m----> 1\u001b[0m client\u001b[38;5;241m.\u001b[39msummarize_code_systems()\n",
      "File \u001b[0;32m~/work/git_tims/TSDemoBoard/imports.py:126\u001b[0m, in \u001b[0;36mTimsClient.summarize_code_systems\u001b[0;34m(self, verbose)\u001b[0m\n\u001b[1;32m    124\u001b[0m         \u001b[38;5;28;01melse\u001b[39;00m:\n\u001b[1;32m    125\u001b[0m             \u001b[38;5;28mprint\u001b[39m(\u001b[38;5;124mf\u001b[39m\u001b[38;5;124m\"\u001b[39m\u001b[38;5;124mtitle: (none)\u001b[39m\u001b[38;5;124m\"\u001b[39m)\n\u001b[0;32m--> 126\u001b[0m         \u001b[38;5;28mprint\u001b[39m(\u001b[38;5;124mf\u001b[39m\u001b[38;5;124m\"\u001b[39m\u001b[38;5;124mname:\u001b[39m\u001b[38;5;132;01m{\u001b[39;00mx[\u001b[38;5;124m'\u001b[39m\u001b[38;5;124mresource\u001b[39m\u001b[38;5;124m'\u001b[39m][\u001b[38;5;124m'\u001b[39m\u001b[38;5;124mname\u001b[39m\u001b[38;5;124m'\u001b[39m]\u001b[38;5;132;01m}\u001b[39;00m\u001b[38;5;124m , id:\u001b[39m\u001b[38;5;132;01m{\u001b[39;00mx[\u001b[38;5;124m'\u001b[39m\u001b[38;5;124mresource\u001b[39m\u001b[38;5;124m'\u001b[39m][\u001b[38;5;124m'\u001b[39m\u001b[38;5;124mid\u001b[39m\u001b[38;5;124m'\u001b[39m]\u001b[38;5;132;01m}\u001b[39;00m\u001b[38;5;124m, url:\u001b[39m\u001b[38;5;132;01m{\u001b[39;00mx[\u001b[38;5;124m'\u001b[39m\u001b[38;5;124mresource\u001b[39m\u001b[38;5;124m'\u001b[39m][\u001b[38;5;124m'\u001b[39m\u001b[38;5;124murl\u001b[39m\u001b[38;5;124m'\u001b[39m]\u001b[38;5;132;01m}\u001b[39;00m\u001b[38;5;124m\"\u001b[39m)\n\u001b[1;32m    127\u001b[0m         \u001b[38;5;28mprint\u001b[39m(\u001b[38;5;124m\"\u001b[39m\u001b[38;5;124m\"\u001b[39m)\n\u001b[1;32m    128\u001b[0m \u001b[38;5;28;01melse\u001b[39;00m:\n",
      "\u001b[0;31mKeyError\u001b[0m: 'name'"
     ]
    }
   ],
   "source": [
    "client.summarize_code_systems()"
   ]
  },
  {
   "cell_type": "code",
   "execution_count": 9,
   "id": "61627370",
   "metadata": {
    "scrolled": true
   },
   "outputs": [
    {
     "name": "stdout",
     "output_type": "stream",
     "text": [
      "GETTING\n",
      "http://localhost:8001/fhir/CodeSystem?name=LOINC\n",
      "SENDING\n",
      "HTTP STATUS OK 200\n",
      "Not Present\n"
     ]
    }
   ],
   "source": [
    "\n",
    "\n",
    "client.summarize_code_system_by_name('LOINC')"
   ]
  },
  {
   "cell_type": "code",
   "execution_count": null,
   "id": "6f0e3dcd",
   "metadata": {},
   "outputs": [],
   "source": []
  },
  {
   "cell_type": "code",
   "execution_count": null,
   "id": "78b27a1d",
   "metadata": {},
   "outputs": [],
   "source": []
  },
  {
   "cell_type": "code",
   "execution_count": 10,
   "id": "4ec34a7f",
   "metadata": {},
   "outputs": [
    {
     "name": "stdout",
     "output_type": "stream",
     "text": [
      "GETTING\n",
      "http://localhost:8001/fhir/CodeSystem?system=http%3A%2F%2Floinc.org\n",
      "SENDING\n",
      "HTTP STATUS OK 200\n",
      "Not Present\n"
     ]
    }
   ],
   "source": [
    "client.summarize_code_system_by_system('http://loinc.org')"
   ]
  },
  {
   "cell_type": "code",
   "execution_count": 11,
   "id": "61c80eab",
   "metadata": {},
   "outputs": [
    {
     "name": "stdout",
     "output_type": "stream",
     "text": [
      "GETTING\n",
      "http://localhost:8001/fhir/CodeSystem?name=SNOMED+CT\n",
      "SENDING\n",
      "HTTP STATUS OK 200\n",
      "name: SNOMED CT\n",
      "resourceType:  CodeSystem  id: 1\n",
      "url: http://snomed.info/sct\n",
      "full url: http://localhost:8001/fhir/CodeSystem/1\n"
     ]
    }
   ],
   "source": [
    "client.summarize_code_system_by_name('SNOMED CT')"
   ]
  },
  {
   "cell_type": "code",
   "execution_count": 12,
   "id": "91b2bc79",
   "metadata": {},
   "outputs": [
    {
     "name": "stdout",
     "output_type": "stream",
     "text": [
      "GETTING\n",
      "http://localhost:8001/fhir/CodeSystem?name=ICD-10-CM\n",
      "SENDING\n",
      "HTTP STATUS OK 200\n",
      "name: ICD-10-CM\n",
      "resourceType:  CodeSystem  id: 2\n",
      "url: http://hl7.org/fhir/sid/icd-10-cm\n",
      "full url: http://localhost:8001/fhir/CodeSystem/2\n"
     ]
    }
   ],
   "source": [
    "client.summarize_code_system_by_name('ICD-10-CM')"
   ]
  },
  {
   "cell_type": "code",
   "execution_count": 13,
   "id": "a52f639f",
   "metadata": {},
   "outputs": [
    {
     "name": "stdout",
     "output_type": "stream",
     "text": [
      "GETTING\n",
      "http://localhost:8001/fhir/CodeSystem?name=CPT4\n",
      "SENDING\n",
      "HTTP STATUS OK 200\n",
      "Not Present\n"
     ]
    }
   ],
   "source": [
    "client.summarize_code_system_by_name('CPT4')"
   ]
  },
  {
   "cell_type": "code",
   "execution_count": 14,
   "id": "a399ff27",
   "metadata": {},
   "outputs": [
    {
     "name": "stdout",
     "output_type": "stream",
     "text": [
      "GETTING\n",
      "http://localhost:8001/fhir/CodeSystem?name=HPO\n",
      "SENDING\n",
      "HTTP STATUS OK 200\n",
      "Not Present\n"
     ]
    }
   ],
   "source": [
    "client.summarize_code_system_by_name('HPO')"
   ]
  },
  {
   "cell_type": "code",
   "execution_count": 15,
   "id": "4159e66d",
   "metadata": {},
   "outputs": [
    {
     "name": "stdout",
     "output_type": "stream",
     "text": [
      "GETTING\n",
      "http://localhost:8001/fhir/CodeSystem?name=hpo\n",
      "SENDING\n",
      "HTTP STATUS OK 200\n",
      "Not Present\n"
     ]
    }
   ],
   "source": [
    "client.summarize_code_system_by_name('hpo')"
   ]
  },
  {
   "cell_type": "code",
   "execution_count": 16,
   "id": "fc041021",
   "metadata": {},
   "outputs": [
    {
     "name": "stdout",
     "output_type": "stream",
     "text": [
      "GETTING\n",
      "http://localhost:8001/fhir/CodeSystem?name=HumanPhenotypeOntology\n",
      "SENDING\n",
      "HTTP STATUS OK 200\n",
      "name: HumanPhenotypeOntology\n",
      "title: Human Phenotype Ontology\n",
      "resourceType:  CodeSystem  id: hpo\n",
      "url: http://purl.obolibrary.org/obo/hp.fhir\n",
      "full url: http://localhost:8001/fhir/CodeSystem/hpo\n"
     ]
    }
   ],
   "source": [
    "client.summarize_code_system_by_name('HumanPhenotypeOntology')"
   ]
  },
  {
   "cell_type": "code",
   "execution_count": 17,
   "id": "d95a6a73",
   "metadata": {},
   "outputs": [
    {
     "name": "stdout",
     "output_type": "stream",
     "text": [
      "GETTING\n",
      "http://localhost:8001/fhir/CodeSystem?name=MONDO\n",
      "SENDING\n",
      "HTTP STATUS OK 200\n",
      "name: MondoDiseaseOntology\n",
      "title: Mondo Disease Ontology\n",
      "resourceType:  CodeSystem  id: mondo\n",
      "url: http://purl.obolibrary.org/obo/mondo.fhir\n",
      "full url: http://localhost:8001/fhir/CodeSystem/mondo\n"
     ]
    }
   ],
   "source": [
    "client.summarize_code_system_by_name('MONDO')"
   ]
  },
  {
   "cell_type": "code",
   "execution_count": 4,
   "id": "51e1969a",
   "metadata": {},
   "outputs": [
    {
     "name": "stdout",
     "output_type": "stream",
     "text": [
      "GETTING\n",
      "http://localhost:8001/fhir/CodeSystem?name=mondo\n",
      "SENDING\n",
      "HTTP STATUS OK 200\n",
      "name: MondoDiseaseOntology\n",
      "title: Mondo Disease Ontology\n",
      "resourceType:  CodeSystem  id: mondo\n",
      "url: http://purl.obolibrary.org/obo/mondo.fhir\n",
      "full url: http://localhost:8001/fhir/CodeSystem/mondo\n"
     ]
    }
   ],
   "source": [
    "client.summarize_code_system_by_name('mondo')"
   ]
  },
  {
   "cell_type": "code",
   "execution_count": 14,
   "id": "ccaf3b8e",
   "metadata": {},
   "outputs": [
    {
     "name": "stdout",
     "output_type": "stream",
     "text": [
      "GETTING\n",
      "http://localhost:8001/fhir/CodeSystem?name=MondoDiseaseOntology\n",
      "SENDING\n",
      "HTTP STATUS OK 200\n",
      "name: MondoDiseaseOntology\n",
      "title: Mondo Disease Ontology\n",
      "resourceType:  CodeSystem  id: mondo\n",
      "url: http://purl.obolibrary.org/obo/mondo.fhir\n",
      "full url: http://localhost:8001/fhir/CodeSystem/mondo\n"
     ]
    }
   ],
   "source": [
    "client.summarize_code_system_by_name('MondoDiseaseOntology')"
   ]
  },
  {
   "cell_type": "markdown",
   "id": "1ec9f286",
   "metadata": {},
   "source": [
    "## CodeSystem $validate-code "
   ]
  },
  {
   "cell_type": "code",
   "execution_count": 15,
   "id": "a7f9ac11",
   "metadata": {},
   "outputs": [
    {
     "name": "stdout",
     "output_type": "stream",
     "text": [
      "GETTING\n",
      "http://localhost:8001/fhir/CodeSystem/loinc/$validate-code?code=69551-0\n",
      "SENDING\n",
      "HTTP STATUS OK 200\n",
      "Genomic alt allele [ID]\n"
     ]
    }
   ],
   "source": [
    "client.validate_code(system_id='loinc', code='69551-0')"
   ]
  },
  {
   "cell_type": "code",
   "execution_count": 16,
   "id": "6129631f",
   "metadata": {},
   "outputs": [
    {
     "name": "stdout",
     "output_type": "stream",
     "text": [
      "GETTING\n",
      "http://localhost:8001/fhir/CodeSystem/$validate-code?codeSystem=http://loinc.org&code=69551-0\n",
      "SENDING\n",
      "error: 400\n"
     ]
    }
   ],
   "source": [
    "client.validate_code_2(system_id='http://loinc.org', code='69551-0') # NA"
   ]
  },
  {
   "cell_type": "code",
   "execution_count": 17,
   "id": "19d9100e",
   "metadata": {},
   "outputs": [
    {
     "name": "stdout",
     "output_type": "stream",
     "text": [
      "GETTING\n",
      "http://localhost:8001/fhir/CodeSystem/v3-loinc/$validate-code?code=69551-0\n",
      "SENDING\n",
      "error: 404\n"
     ]
    }
   ],
   "source": [
    "client.validate_code(system_id='v3-loinc', code='69551-0') # works on local"
   ]
  },
  {
   "cell_type": "markdown",
   "id": "7a19ef0f",
   "metadata": {},
   "source": [
    "## CodeSystem $lookup "
   ]
  },
  {
   "cell_type": "markdown",
   "id": "9629265f",
   "metadata": {},
   "source": [
    "#### Direct call to $lookup. \n",
    "Note that the return is a resource type of Parameters, not CodeSystem. So an operation's return type isn't restricted to the Resource type.\n",
    "- can this list of return parameters be modified?\n",
    "- can you do this on the generic API's search functionality?"
   ]
  },
  {
   "cell_type": "code",
   "execution_count": 18,
   "id": "4b4f0bc4",
   "metadata": {},
   "outputs": [
    {
     "name": "stdout",
     "output_type": "stream",
     "text": [
      "GETTING\n",
      "http://localhost:8001/fhir//CodeSystem/$lookup?system=http%3A%2F%2Floinc.org&code=LA6668-3\n",
      "SENDING\n",
      "HTTP STATUS OK 200\n",
      "\n",
      "{'resourceType': 'Parameters', 'parameter': [{'name': 'name', 'valueString': 'LOINC'}, {'name': 'display', 'valueString': 'Pathogenic'}, {'name': 'abstract', 'valueBoolean': False}]}\n"
     ]
    }
   ],
   "source": [
    "response = client.do_hapi_get_request(\"/CodeSystem/$lookup?system=http://loinc.org&code=LA6668-3\", {})\n",
    "print(\"\")\n",
    "print(response)\n",
    "\n"
   ]
  },
  {
   "cell_type": "markdown",
   "id": "12ff8d95",
   "metadata": {},
   "source": [
    "#### Abstract tests with refined output"
   ]
  },
  {
   "cell_type": "code",
   "execution_count": 5,
   "id": "e87aea97",
   "metadata": {},
   "outputs": [
    {
     "name": "stdout",
     "output_type": "stream",
     "text": [
      "GETTING\n",
      "http://localhost:8001/fhir/CodeSystem/$lookup?system=http://loinc.org&code=LA6668-3\n",
      "SENDING\n",
      "error: 500\n"
     ]
    }
   ],
   "source": [
    "client.lookup_code(system='http://loinc.org', code='LA6668-3')"
   ]
  },
  {
   "cell_type": "code",
   "execution_count": 20,
   "id": "3f19a571",
   "metadata": {},
   "outputs": [
    {
     "name": "stdout",
     "output_type": "stream",
     "text": [
      "GETTING\n",
      "http://localhost:8001/fhir/CodeSystem/$lookup?system=http://loinc.org&code=bogus\n",
      "SENDING\n",
      "error: 404\n"
     ]
    }
   ],
   "source": [
    "client.lookup_code(system='http://loinc.org', code='bogus') # should fail"
   ]
  },
  {
   "cell_type": "code",
   "execution_count": 21,
   "id": "09f5b247",
   "metadata": {},
   "outputs": [
    {
     "name": "stdout",
     "output_type": "stream",
     "text": [
      "GETTING\n",
      "http://localhost:8001/fhir/CodeSystem/$lookup?system=http://bogus.org&code=LA6668-3\n",
      "SENDING\n",
      "error: 404\n"
     ]
    }
   ],
   "source": [
    "client.lookup_code(system='http://bogus.org', code='LA6668-3') # should fail"
   ]
  },
  {
   "cell_type": "code",
   "execution_count": 18,
   "id": "4083739a",
   "metadata": {},
   "outputs": [
    {
     "name": "stdout",
     "output_type": "stream",
     "text": [
      "GETTING\n",
      "http://localhost:8001/fhir/CodeSystem/$lookup?system=http://purl.obolibrary.org/obo/hp.fhir&code=HP:0004409\n",
      "SENDING\n",
      "HTTP STATUS OK 200\n",
      "name:HumanPhenotypeOntology, version:20221215, display:Hyposmia, abstract:False, \n"
     ]
    }
   ],
   "source": [
    "client.lookup_code(system='http://purl.obolibrary.org/obo/hp.fhir', code='HP:0004409')"
   ]
  },
  {
   "cell_type": "markdown",
   "id": "e36428dc",
   "metadata": {},
   "source": [
    "### HP (converted here by pyrophen?) doesn't have the CHEBI problem"
   ]
  },
  {
   "cell_type": "code",
   "execution_count": 23,
   "id": "83eff4b6",
   "metadata": {},
   "outputs": [
    {
     "name": "stdout",
     "output_type": "stream",
     "text": [
      "GETTING\n",
      "http://localhost:8001/fhir/CodeSystem/$lookup?system=http://purl.obolibrary.org/obo/hp.fhir&code=CHEBI_33431\n",
      "SENDING\n",
      "error: 404\n"
     ]
    }
   ],
   "source": [
    "client.lookup_code(system='http://purl.obolibrary.org/obo/hp.fhir', code='CHEBI_33431')"
   ]
  },
  {
   "cell_type": "code",
   "execution_count": 23,
   "id": "9c3a9144",
   "metadata": {},
   "outputs": [
    {
     "name": "stdout",
     "output_type": "stream",
     "text": [
      "GETTING\n",
      "http://localhost:8001/fhir/CodeSystem/$lookup?system=http://purl.obolibrary.org/obo/mondo.owl&code=MONDO_0008510\n",
      "SENDING\n",
      "error: 404\n"
     ]
    }
   ],
   "source": [
    "client.lookup_code(system='http://purl.obolibrary.org/obo/mondo.owl', code='MONDO_0008510')"
   ]
  },
  {
   "cell_type": "code",
   "execution_count": 7,
   "id": "96ef2e9c",
   "metadata": {},
   "outputs": [
    {
     "name": "stdout",
     "output_type": "stream",
     "text": [
      "GETTING\n",
      "http://localhost:8001/fhir/CodeSystem/$lookup?system=http://purl.obolibrary.org/obo/mondo.owl&code=MONDO:0008510\n",
      "SENDING\n",
      "error: 404\n"
     ]
    }
   ],
   "source": [
    "client.lookup_code(system='http://purl.obolibrary.org/obo/mondo.owl', code='MONDO:0008510')"
   ]
  },
  {
   "cell_type": "code",
   "execution_count": 24,
   "id": "936ea85d",
   "metadata": {},
   "outputs": [
    {
     "name": "stdout",
     "output_type": "stream",
     "text": [
      "GETTING\n",
      "http://localhost:8001/fhir/CodeSystem/$lookup?system=http://purl.obolibrary.org/obo/mondo.fhir&code=MONDO:0008510\n",
      "SENDING\n",
      "HTTP STATUS OK 200\n",
      "name:MondoDiseaseOntology, version:20230104, display:symphalangism with multiple anomalies of hands and feet, abstract:False, \n"
     ]
    }
   ],
   "source": [
    "client.lookup_code(system='http://purl.obolibrary.org/obo/mondo.fhir', code='MONDO:0008510')"
   ]
  },
  {
   "cell_type": "markdown",
   "id": "8587a389",
   "metadata": {},
   "source": [
    "### Surprise MONDO comes with some CHEBI terms (TBD)"
   ]
  },
  {
   "cell_type": "code",
   "execution_count": 25,
   "id": "97f594ce",
   "metadata": {},
   "outputs": [
    {
     "name": "stdout",
     "output_type": "stream",
     "text": [
      "GETTING\n",
      "http://localhost:8001/fhir/CodeSystem/$lookup?system=http://purl.obolibrary.org/obo/mondo.owl&code=CHEBI_33424\n",
      "SENDING\n",
      "error: 404\n"
     ]
    }
   ],
   "source": [
    "client.lookup_code(system='http://purl.obolibrary.org/obo/mondo.owl', code='CHEBI_33424')"
   ]
  },
  {
   "cell_type": "markdown",
   "id": "230dc950",
   "metadata": {},
   "source": [
    "## CodeSystem ```$find-matches (Trial Use)```\n",
    "```[base]/CodeSyste/$fine-matches with system and property.code and property.value to search on.```\n",
    "\n",
    "Note the compositional flag which mentions post-coordinated expressions and SNOMED.\n",
    "Current understanding is that this does not allow for regex-style text search on the concept name."
   ]
  },
  {
   "cell_type": "code",
   "execution_count": 26,
   "id": "0f3a56a8",
   "metadata": {},
   "outputs": [],
   "source": [
    "# TODO"
   ]
  },
  {
   "cell_type": "markdown",
   "id": "1585aa46",
   "metadata": {},
   "source": [
    "## CodeSystem $subsumes\n",
    "Check whether a term is subsumed by another term."
   ]
  },
  {
   "cell_type": "markdown",
   "id": "44d187c5",
   "metadata": {},
   "source": [
    "# CodeSystem text search: searching for concepts by (substrings or regexes matching?) the label test in the Designations"
   ]
  },
  {
   "cell_type": "code",
   "execution_count": 27,
   "id": "d2a3e455",
   "metadata": {},
   "outputs": [
    {
     "name": "stdout",
     "output_type": "stream",
     "text": [
      "GETTING\n",
      "http://localhost:8001/fhir/CodeSystem?_content=diabetes\n",
      "SENDING\n",
      "HTTP STATUS OK 200\n",
      "\n",
      "CodeSystem\n",
      "mondo\n",
      "http://purl.obolibrary.org/obo/mondo.fhir\n",
      "MondoDiseaseOntology\n",
      "Mondo Disease Ontology\n",
      "41491\n",
      "{'code': 'http://identifiers.org/hgnc/29796', 'display': 'LAMTOR2', 'property': [{'code': 'imported', 'valueBoolean': True}, {'code': 'parent', 'valueCode': 'http://purl.obolibrary.org/obo/SO_0000704'}, {'code': 'root', 'valueBoolean': False}, {'code': 'deprecated', 'valueBoolean': False}]}\n",
      "\n",
      "CodeSystem\n",
      "hpo\n",
      "http://purl.obolibrary.org/obo/hp.fhir\n",
      "HumanPhenotypeOntology\n",
      "Human Phenotype Ontology\n",
      "31090\n",
      "{'code': 'http://purl.obolibrary.org/obo/CHEBI_33431', 'display': 'elemental chlorine', 'property': [{'code': 'imported', 'valueBoolean': True}, {'code': 'parent', 'valueCode': 'http://purl.obolibrary.org/obo/CHEBI_33434'}, {'code': 'parent', 'valueCode': 'http://purl.obolibrary.org/obo/CHEBI_23117'}, {'code': 'root', 'valueBoolean': False}, {'code': 'deprecated', 'valueBoolean': False}]}\n",
      "\n"
     ]
    }
   ],
   "source": [
    "# hapi-fhir-jpaserver-start  | 2022-11-07 19:20:28.641 [http-nio-8080-exec-6] \n",
    "# WARN  c.u.f.r.s.i.ExceptionHandlingInterceptor [ExceptionHandlingInterceptor.java:181] \n",
    "# Failure during REST processing: ca.uhn.fhir.rest.server.exceptions.InvalidRequestException: \n",
    "# HAPI-1192: Fulltext search is not enabled on this service, \n",
    "#. can not process parameter: _text\n",
    "    \n",
    "def show_stuff(stuff):\n",
    "    print(stuff['resource']['resourceType']) # codeSystem\n",
    "    print(stuff['resource']['id'])      # v3-ActCode\n",
    "    ##print(stuff['entry'][0]['resource']['text'])  # really loooong\n",
    "    print(stuff['resource']['url'])  \n",
    "    print(stuff['resource']['name'])  # ActCode\n",
    "    print(stuff['resource']['title']) # ActCode\n",
    "    #print(stuff['resource']['description'])  # kinda long\n",
    "\n",
    "# finds those two and HPO\n",
    "response = client.do_hapi_get_request(\"CodeSystem?_content=diabetes\", {})\n",
    "print(\"\")\n",
    "if response and 'entry' in response and len(response['entry']) > 0:\n",
    "    #print(response['entry'][0]['resource'].keys()) \n",
    "    # (['resourceType', 'id', 'meta', 'language', 'text', 'url', 'identifier', \n",
    "    # 'version', 'name', 'title', 'status', 'date', 'publisher', 'contact', \n",
    "    # 'description', 'caseSensitive', 'hierarchyMeaning', \n",
    "    # 'content', 'property', 'concept'])\n",
    "    for i in range(0, len(response['entry'])) :\n",
    "      show_stuff(response['entry'][i])\n",
    "      print(len(response['entry'][i]['resource']['concept']))\n",
    "      print(response['entry'][i]['resource']['concept'][0])\n",
    "      print(\"\")\n",
    "\n"
   ]
  },
  {
   "cell_type": "code",
   "execution_count": 28,
   "id": "59b91df9",
   "metadata": {},
   "outputs": [
    {
     "name": "stdout",
     "output_type": "stream",
     "text": [
      "GETTING\n",
      "http://localhost:8001/fhir/CodeSystem?_text=diabetes\n",
      "SENDING\n",
      "HTTP STATUS OK 200\n"
     ]
    },
    {
     "ename": "KeyError",
     "evalue": "'entry'",
     "output_type": "error",
     "traceback": [
      "\u001b[0;31m---------------------------------------------------------------------------\u001b[0m",
      "\u001b[0;31mKeyError\u001b[0m                                  Traceback (most recent call last)",
      "Cell \u001b[0;32mIn [28], line 13\u001b[0m\n\u001b[1;32m      8\u001b[0m     \u001b[38;5;66;03m#print(stuff['resource']['description'])  # kinda long\u001b[39;00m\n\u001b[1;32m      9\u001b[0m \n\u001b[1;32m     10\u001b[0m     \n\u001b[1;32m     11\u001b[0m \u001b[38;5;66;03m# finds v3-ActCode and v3-MapRelationship    \u001b[39;00m\n\u001b[1;32m     12\u001b[0m response \u001b[38;5;241m=\u001b[39m client\u001b[38;5;241m.\u001b[39mdo_hapi_get_request(\u001b[38;5;124m\"\u001b[39m\u001b[38;5;124mCodeSystem?_text=diabetes\u001b[39m\u001b[38;5;124m\"\u001b[39m, {}) \n\u001b[0;32m---> 13\u001b[0m \u001b[38;5;28;01mfor\u001b[39;00m i \u001b[38;5;129;01min\u001b[39;00m \u001b[38;5;28mrange\u001b[39m(\u001b[38;5;241m0\u001b[39m, \u001b[38;5;28mlen\u001b[39m(response[\u001b[38;5;124m'\u001b[39m\u001b[38;5;124mentry\u001b[39m\u001b[38;5;124m'\u001b[39m])) :\n\u001b[1;32m     14\u001b[0m       show_stuff(response[\u001b[38;5;124m'\u001b[39m\u001b[38;5;124mentry\u001b[39m\u001b[38;5;124m'\u001b[39m][i])\n\u001b[1;32m     15\u001b[0m       \u001b[38;5;28mprint\u001b[39m(\u001b[38;5;28mlen\u001b[39m(response[\u001b[38;5;124m'\u001b[39m\u001b[38;5;124mentry\u001b[39m\u001b[38;5;124m'\u001b[39m][i][\u001b[38;5;124m'\u001b[39m\u001b[38;5;124mresource\u001b[39m\u001b[38;5;124m'\u001b[39m][\u001b[38;5;124m'\u001b[39m\u001b[38;5;124mconcept\u001b[39m\u001b[38;5;124m'\u001b[39m]))\n",
      "\u001b[0;31mKeyError\u001b[0m: 'entry'"
     ]
    }
   ],
   "source": [
    "def show_stuff(stuff):\n",
    "    print(stuff['resource']['resourceType']) # codeSystem\n",
    "    print(stuff['resource']['id'])      # v3-ActCode\n",
    "    ##print(stuff['entry'][0]['resource']['text'])  # really loooong\n",
    "    print(stuff['resource']['url'])  \n",
    "    print(stuff['resource']['name'])  # ActCode\n",
    "    print(stuff['resource']['title']) # ActCode\n",
    "    #print(stuff['resource']['description'])  # kinda long\n",
    "\n",
    "    \n",
    "# finds v3-ActCode and v3-MapRelationship    \n",
    "response = client.do_hapi_get_request(\"CodeSystem?_text=diabetes\", {}) \n",
    "for i in range(0, len(response['entry'])) :\n",
    "      show_stuff(response['entry'][i])\n",
    "      print(len(response['entry'][i]['resource']['concept']))\n",
    "      print(response['entry'][i]['resource']['concept'][0])\n",
    "      print(response['entry'][i]['resource']['concept'][0].keys())\n",
    "      print(\"\")\n"
   ]
  },
  {
   "cell_type": "code",
   "execution_count": 1,
   "id": "75d87ab8",
   "metadata": {},
   "outputs": [
    {
     "ename": "NameError",
     "evalue": "name 'client' is not defined",
     "output_type": "error",
     "traceback": [
      "\u001b[0;31m---------------------------------------------------------------------------\u001b[0m",
      "\u001b[0;31mNameError\u001b[0m                                 Traceback (most recent call last)",
      "Cell \u001b[0;32mIn [1], line 1\u001b[0m\n\u001b[0;32m----> 1\u001b[0m response \u001b[38;5;241m=\u001b[39m client\u001b[38;5;241m.\u001b[39mdo_hapi_get_request(\u001b[38;5;124m\"\u001b[39m\u001b[38;5;124mCondition?_text=diabetes\u001b[39m\u001b[38;5;124m\"\u001b[39m, {})\n\u001b[1;32m      2\u001b[0m \u001b[38;5;28;01mif\u001b[39;00m response \u001b[38;5;129;01mand\u001b[39;00m \u001b[38;5;124m'\u001b[39m\u001b[38;5;124mentry\u001b[39m\u001b[38;5;124m'\u001b[39m \u001b[38;5;129;01min\u001b[39;00m response \u001b[38;5;129;01mand\u001b[39;00m \u001b[38;5;28mlen\u001b[39m(response[\u001b[38;5;124m'\u001b[39m\u001b[38;5;124mentry\u001b[39m\u001b[38;5;124m'\u001b[39m]) \u001b[38;5;241m>\u001b[39m \u001b[38;5;241m0\u001b[39m:\n\u001b[1;32m      3\u001b[0m     \u001b[38;5;28mprint\u001b[39m(response)\n",
      "\u001b[0;31mNameError\u001b[0m: name 'client' is not defined"
     ]
    }
   ],
   "source": [
    "response = client.do_hapi_get_request(\"Condition?_text=diabetes\", {})\n",
    "if response and 'entry' in response and len(response['entry']) > 0:\n",
    "    print(response)"
   ]
  },
  {
   "cell_type": "code",
   "execution_count": 30,
   "id": "d6e73035",
   "metadata": {},
   "outputs": [
    {
     "name": "stdout",
     "output_type": "stream",
     "text": [
      "GETTING\n",
      "http://localhost:8001/fhir/Condition?_content=diabetes\n",
      "SENDING\n",
      "HTTP STATUS OK 200\n"
     ]
    }
   ],
   "source": [
    " \n",
    "response = client.do_hapi_get_request(\"Condition?_content=diabetes\", {})\n",
    "if response and 'entry' in response and len(response['entry']) > 0:\n",
    "    print(response)"
   ]
  },
  {
   "cell_type": "markdown",
   "id": "bcd30601",
   "metadata": {},
   "source": [
    "# What else?\n",
    "- search for concept by name, or pattern\n",
    "- modify concept? (no)\n",
    "- hierarchy closure, synonym closure\n",
    "- more"
   ]
  },
  {
   "cell_type": "markdown",
   "id": "a7021c4a",
   "metadata": {},
   "source": [
    "## CodeSystem Search by text"
   ]
  },
  {
   "cell_type": "code",
   "execution_count": null,
   "id": "7c9035ef",
   "metadata": {},
   "outputs": [],
   "source": []
  },
  {
   "cell_type": "code",
   "execution_count": null,
   "id": "8521048a",
   "metadata": {},
   "outputs": [],
   "source": []
  }
 ],
 "metadata": {
  "kernelspec": {
   "display_name": "Python 3 (ipykernel)",
   "language": "python",
   "name": "python3"
  },
  "language_info": {
   "codemirror_mode": {
    "name": "ipython",
    "version": 3
   },
   "file_extension": ".py",
   "mimetype": "text/x-python",
   "name": "python",
   "nbconvert_exporter": "python",
   "pygments_lexer": "ipython3",
   "version": "3.9.6"
  }
 },
 "nbformat": 4,
 "nbformat_minor": 5
}
